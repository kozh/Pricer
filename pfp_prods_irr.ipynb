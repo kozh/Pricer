{
 "cells": [
  {
   "cell_type": "code",
   "execution_count": 1,
   "metadata": {
    "collapsed": false
   },
   "outputs": [],
   "source": [
    "from pfp_stat import *\n",
    "\n",
    "import numpy as np\n",
    "import pandas as pd \n",
    "\n",
    "import pandas_datareader.data as web\n",
    "import matplotlib.pyplot as plt\n",
    "import matplotlib\n",
    "\n",
    "import datetime as dat\n",
    "\n",
    "from pylab import title, figure, xlabel, ylabel, xticks, bar, legend, axis, savefig\n",
    "from fpdf import FPDF\n",
    "import fpdf\n",
    "\n",
    "from pfp_products import *\n",
    "\n",
    "import os.path\n",
    "from scipy.optimize import minimize"
   ]
  },
  {
   "cell_type": "code",
   "execution_count": 2,
   "metadata": {
    "collapsed": true
   },
   "outputs": [],
   "source": [
    "def mirr(wghts):\n",
    "    a1 = (payoffs*wghts).sum(axis = 2)    \n",
    "    a2 = np.ones((a1.shape[0]+1,a1.shape[1]))*(-1)\n",
    "    a2[1:,:] = a1\n",
    "    a3 = np.array([np.irr(x) for x in np.transpose(a2)]) \n",
    "    return a3"
   ]
  },
  {
   "cell_type": "code",
   "execution_count": 3,
   "metadata": {
    "collapsed": false
   },
   "outputs": [
    {
     "name": "stdout",
     "output_type": "stream",
     "text": [
      "Okay, lets see what we have here.\n",
      "I`m using `prod cat` sheet of `inputs/prod_cat open.xlsx` file as product catalog.\n",
      "...\n",
      "All products from `prod cat.xls` except mentioned above are successfully loaded.\n"
     ]
    }
   ],
   "source": [
    "print('Okay, lets see what we have here.')\n",
    "\n",
    "prodcat_filename = 'inputs/prod_cat open.xlsx'\n",
    "prodcat_sheetname = 'prod cat'\n",
    "\n",
    "xls = pd.read_excel(prodcat_filename, prodcat_sheetname, \n",
    "                         decimal = '.', usecols = 'b:z', \n",
    "                         index_col = 0, header = 1)\n",
    "\n",
    "print('I`m using `' + prodcat_sheetname + '` sheet of `' + prodcat_filename + '` file as product catalog.')\n",
    "\n",
    "products = xls.transpose()\n",
    "all_BAs = []\n",
    "prod_list = []\n",
    "max_term = 0\n",
    "\n",
    "for prod, row in products.iterrows():\n",
    "    \n",
    "    check = check_stat(row.BAs)\n",
    "    \n",
    "    if check:        \n",
    "        all_BAs.extend(row.BAs.split(', '))\n",
    "        all_BAs = list(set(all_BAs))\n",
    "        \n",
    "        if row.term > max_term: max_term = row.term\n",
    "\n",
    "        Note1 = Structure(prod, row.BAs, row.notional_curr, row.term, \n",
    "                  row.coupon_value, row.coupon_always, row.coupon_check_months, row.coupon_memory, \n",
    "                  row.coupon_lower_barrier, row.coupon_upper_barrier,\n",
    "                  row.autocall_flag, row.autocall_check_months, row.autocall_barrier, row.autocall_barrier_increase_rate,\n",
    "                  row.redemption_amount, row.redemption_put_strike, row.redemption_guarantee_rule,\n",
    "                  row.redemption_upside_participation, row.redemption_downside_participation, row.issuer)\n",
    "        Note1.stats_ok = True\n",
    "        \n",
    "        prod_list.append(Note1)\n",
    "    else: \n",
    "        print ('We dont have enough statistics for ' + row.name + ' underlyings. We do not calculate it now.')\n",
    "\n",
    "print('...')\n",
    "print('All products from `prod cat.xls` except mentioned above are successfully loaded.')"
   ]
  },
  {
   "cell_type": "code",
   "execution_count": 4,
   "metadata": {
    "collapsed": false,
    "scrolled": false
   },
   "outputs": [
    {
     "name": "stdout",
     "output_type": "stream",
     "text": [
      "Returns: \n",
      "gmkn rx equity    0.079\n",
      "mtss rx equity    0.092\n",
      "moex rx equity    0.082\n",
      "open pif          0.121\n",
      "solecmvt index    0.025\n",
      "yndx rx equity    0.121\n",
      "alrs rx equity    0.087\n",
      "rog sw equity     0.034\n",
      "Name: r, dtype: float64\n",
      " \n",
      "Sigmas: \n",
      "gmkn rx equity    0.191840\n",
      "mtss rx equity    0.249655\n",
      "moex rx equity    0.213164\n",
      "open pif          0.143242\n",
      "solecmvt index    0.096891\n",
      "yndx rx equity    0.323618\n",
      "alrs rx equity    0.278227\n",
      "rog sw equity     0.156097\n",
      "dtype: float32\n",
      " \n",
      "Correlations: \n",
      "\n",
      "                gmkn rx equity  mtss rx equity  moex rx equity  open pif  \\\n",
      "gmkn rx equity        1.000000        0.342554        0.276289  0.406332   \n",
      "mtss rx equity        0.342554        1.000000        0.299780  0.414267   \n",
      "moex rx equity        0.276289        0.299780        1.000000  0.670502   \n",
      "open pif              0.406332        0.414267        0.670502  1.000000   \n",
      "solecmvt index        0.291811        0.274833        0.302035  0.074107   \n",
      "yndx rx equity        0.013790        0.170849        0.525695  0.620546   \n",
      "alrs rx equity        0.152530        0.283471        0.468895  0.638956   \n",
      "rog sw equity        -0.124118       -0.015950        0.031895  0.094408   \n",
      "\n",
      "                solecmvt index  yndx rx equity  alrs rx equity  rog sw equity  \n",
      "gmkn rx equity        0.291811        0.013790        0.152530      -0.124118  \n",
      "mtss rx equity        0.274833        0.170849        0.283471      -0.015950  \n",
      "moex rx equity        0.302035        0.525695        0.468895       0.031895  \n",
      "open pif              0.074107        0.620546        0.638956       0.094408  \n",
      "solecmvt index        1.000000        0.099164        0.134812       0.011685  \n",
      "yndx rx equity        0.099164        1.000000        0.522795      -0.005998  \n",
      "alrs rx equity        0.134812        0.522795        1.000000       0.076384  \n",
      "rog sw equity         0.011685       -0.005998        0.076384       1.000000  \n",
      "Scenarios ready!\n"
     ]
    }
   ],
   "source": [
    "n_scenarios = 50000\n",
    "simulation_years = max_term   \n",
    "\n",
    "returns = ba_scenarios(all_BAs, \n",
    "                       simulation_years,  \n",
    "                       n_scenarios, \n",
    "                       print_statistics = True,\n",
    "                       points_in_year = 12)\n",
    "print('Scenarios ready!')"
   ]
  },
  {
   "cell_type": "code",
   "execution_count": 5,
   "metadata": {
    "collapsed": false,
    "scrolled": false
   },
   "outputs": [
    {
     "name": "stdout",
     "output_type": "stream",
     "text": [
      "calculating GMKN AM\n",
      "calculating Rosche AM\n",
      "calculating Basket coupon\n",
      "calculating Open PIF\n",
      "calculating Solars\n",
      "Done!\n"
     ]
    }
   ],
   "source": [
    "flag = 1\n",
    "for prod in prod_list:\n",
    "    \n",
    "    print('calculating ' + prod.name)\n",
    "    \n",
    "    a1 = prod.payoff(all_BAs, returns, to_pdf = False)\n",
    "    # a1 - массив размера self.time_steps x n_scenarios\n",
    "    \n",
    "    a2 = np.ones((a1.shape[0]+1,a1.shape[1]))*(-1)\n",
    "    a2[1:,:] = a1\n",
    "    a3 = np.array([np.irr(x) for x in np.transpose(a2)])\n",
    "    \n",
    "    x = a3.std()\n",
    "    y = a3.mean()\n",
    "    z = a3.min()\n",
    "\n",
    "    if flag == 1:\n",
    "        flag = 0\n",
    "        payoffs = a1\n",
    "        irrs = a3\n",
    "        points1 = [x, y]\n",
    "        points2 = [z, y]\n",
    "        \n",
    "        names = [prod.name]\n",
    "    else:\n",
    "        payoffs = np.dstack([payoffs, a1])\n",
    "        irrs = np.c_[irrs, a3]\n",
    "        points1 = np.c_[points1, [x, y]]\n",
    "        points2 = np.c_[points2, [z, y]]\n",
    "        names.append(prod.name)\n",
    "print('Done!')"
   ]
  },
  {
   "cell_type": "code",
   "execution_count": 6,
   "metadata": {
    "collapsed": false
   },
   "outputs": [
    {
     "data": {
      "text/plain": [
       "(3, 50000, 5)"
      ]
     },
     "execution_count": 6,
     "metadata": {},
     "output_type": "execute_result"
    }
   ],
   "source": [
    "payoffs.shape"
   ]
  },
  {
   "cell_type": "code",
   "execution_count": 7,
   "metadata": {
    "collapsed": false
   },
   "outputs": [
    {
     "data": {
      "text/plain": [
       "array([[[0.        , 0.        , 0.        , 0.        , 0.        ],\n",
       "        [0.        , 0.        , 0.        , 0.        , 0.        ],\n",
       "        [0.        , 0.        , 0.        , 0.        , 0.        ],\n",
       "        ...,\n",
       "        [0.        , 0.        , 0.11      , 0.        , 0.        ],\n",
       "        [0.        , 0.        , 0.        , 0.        , 0.        ],\n",
       "        [0.        , 0.        , 0.11      , 0.        , 0.        ]],\n",
       "\n",
       "       [[0.        , 0.        , 0.        , 0.        , 0.        ],\n",
       "        [0.        , 0.        , 0.        , 0.        , 0.        ],\n",
       "        [0.        , 0.        , 0.22      , 0.        , 0.        ],\n",
       "        ...,\n",
       "        [0.        , 0.        , 0.        , 0.        , 0.        ],\n",
       "        [0.        , 0.        , 0.        , 0.        , 0.        ],\n",
       "        [0.        , 0.        , 0.11      , 0.        , 0.        ]],\n",
       "\n",
       "       [[1.39411568, 1.03531529, 1.        , 1.81839839, 1.02201724],\n",
       "        [1.        , 1.        , 1.        , 1.62563769, 1.        ],\n",
       "        [1.16952884, 1.10188629, 1.11      , 2.08139875, 1.        ],\n",
       "        ...,\n",
       "        [1.17098726, 1.21497044, 1.        , 1.14467272, 1.16172109],\n",
       "        [1.15648363, 1.        , 1.        , 1.34201507, 1.26425393],\n",
       "        [1.05802664, 1.26774325, 1.        , 1.14689618, 1.        ]]])"
      ]
     },
     "execution_count": 7,
     "metadata": {},
     "output_type": "execute_result"
    }
   ],
   "source": [
    "payoffs"
   ]
  },
  {
   "cell_type": "code",
   "execution_count": null,
   "metadata": {
    "collapsed": true
   },
   "outputs": [],
   "source": []
  }
 ],
 "metadata": {
  "kernelspec": {
   "display_name": "Python 3",
   "language": "python",
   "name": "python3"
  },
  "language_info": {
   "codemirror_mode": {
    "name": "ipython",
    "version": 3
   },
   "file_extension": ".py",
   "mimetype": "text/x-python",
   "name": "python",
   "nbconvert_exporter": "python",
   "pygments_lexer": "ipython3",
   "version": "3.6.7"
  }
 },
 "nbformat": 4,
 "nbformat_minor": 2
}
