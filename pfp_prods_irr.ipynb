{
 "cells": [
  {
   "cell_type": "code",
   "execution_count": 1,
   "metadata": {
    "collapsed": false
   },
   "outputs": [],
   "source": [
    "from pfp_stat import *\n",
    "\n",
    "import numpy as np\n",
    "import pandas as pd \n",
    "\n",
    "import pandas_datareader.data as web\n",
    "import matplotlib.pyplot as plt\n",
    "import matplotlib\n",
    "\n",
    "import datetime as dat\n",
    "\n",
    "from pylab import title, figure, xlabel, ylabel, xticks, bar, legend, axis, savefig\n",
    "from fpdf import FPDF\n",
    "import fpdf\n",
    "\n",
    "from pfp_products import *\n",
    "\n",
    "import os.path\n",
    "from scipy.optimize import minimize"
   ]
  },
  {
   "cell_type": "code",
   "execution_count": 2,
   "metadata": {
    "collapsed": true
   },
   "outputs": [],
   "source": [
    "def mirr(wghts):\n",
    "    a1 = (payoffs*wghts).sum(axis = 2)    \n",
    "    a2 = np.ones((a1.shape[0]+1,a1.shape[1]))*(-1)\n",
    "    a2[1:,:] = a1\n",
    "    a3 = np.array([np.irr(x) for x in np.transpose(a2)]) \n",
    "    return a3"
   ]
  },
  {
   "cell_type": "code",
   "execution_count": 3,
   "metadata": {
    "collapsed": false
   },
   "outputs": [
    {
     "name": "stdout",
     "output_type": "stream",
     "text": [
      "Okay, lets see what we have here.\n",
      "I`m using `prod cat` sheet of `inputs/prod_cat open.xlsx` file as product catalog.\n",
      "...\n",
      "All products from `prod cat.xls` except mentioned above are successfully loaded.\n"
     ]
    }
   ],
   "source": [
    "print('Okay, lets see what we have here.')\n",
    "\n",
    "prodcat_filename = 'inputs/prod_cat open.xlsx'\n",
    "prodcat_sheetname = 'prod cat'\n",
    "\n",
    "xls = pd.read_excel(prodcat_filename, prodcat_sheetname, \n",
    "                         decimal = '.', usecols = 'b:z', \n",
    "                         index_col = 0, header = 1)\n",
    "\n",
    "print('I`m using `' + prodcat_sheetname + '` sheet of `' + prodcat_filename + '` file as product catalog.')\n",
    "\n",
    "products = xls.transpose()\n",
    "all_BAs = []\n",
    "prod_list = []\n",
    "max_term = 0\n",
    "\n",
    "for prod, row in products.iterrows():\n",
    "    \n",
    "    check = check_stat(row.BAs)\n",
    "    \n",
    "    if check:        \n",
    "        all_BAs.extend(row.BAs.split(', '))\n",
    "        all_BAs = list(set(all_BAs))\n",
    "        \n",
    "        if row.term > max_term: max_term = row.term\n",
    "\n",
    "        Note1 = Structure(prod, row.BAs, row.notional_curr, row.term, \n",
    "                  row.coupon_value, row.coupon_always, row.coupon_check_months, row.coupon_memory, \n",
    "                  row.coupon_lower_barrier, row.coupon_upper_barrier,\n",
    "                  row.autocall_flag, row.autocall_check_months, row.autocall_barrier, row.autocall_barrier_increase_rate,\n",
    "                  row.redemption_amount, row.redemption_put_strike, row.redemption_guarantee_rule,\n",
    "                  row.redemption_upside_participation, row.redemption_downside_participation, row.issuer)\n",
    "        Note1.stats_ok = True\n",
    "        \n",
    "        prod_list.append(Note1)\n",
    "    else: \n",
    "        print ('We dont have enough statistics for ' + row.name + ' underlyings. We do not calculate it now.')\n",
    "\n",
    "print('...')\n",
    "print('All products from `prod cat.xls` except mentioned above are successfully loaded.')"
   ]
  },
  {
   "cell_type": "code",
   "execution_count": 4,
   "metadata": {
    "collapsed": false,
    "scrolled": false
   },
   "outputs": [
    {
     "name": "stdout",
     "output_type": "stream",
     "text": [
      "Returns: \n",
      "rog sw equity     0.034\n",
      "alrs rx equity    0.087\n",
      "yndx rx equity    0.120\n",
      "solecmvt index    0.020\n",
      "moex rx equity    0.080\n",
      "gmkn rx equity    0.080\n",
      "mtss rx equity    0.092\n",
      "open pif          0.120\n",
      "Name: r, dtype: float64\n",
      " \n",
      "Sigmas: \n",
      "rog sw equity     0.156097\n",
      "alrs rx equity    0.278227\n",
      "yndx rx equity    0.323618\n",
      "solecmvt index    0.096891\n",
      "moex rx equity    0.213164\n",
      "gmkn rx equity    0.191840\n",
      "mtss rx equity    0.249655\n",
      "open pif          0.143242\n",
      "dtype: float32\n",
      " \n",
      "Correlations: \n",
      "\n",
      "                rog sw equity  alrs rx equity  yndx rx equity  solecmvt index  \\\n",
      "rog sw equity        1.000000        0.076384       -0.005998        0.011685   \n",
      "alrs rx equity       0.076384        1.000000        0.522795        0.134812   \n",
      "yndx rx equity      -0.005998        0.522795        1.000000        0.099164   \n",
      "solecmvt index       0.011685        0.134812        0.099164        1.000000   \n",
      "moex rx equity       0.031895        0.468895        0.525695        0.302035   \n",
      "gmkn rx equity      -0.124118        0.152530        0.013790        0.291811   \n",
      "mtss rx equity      -0.015950        0.283471        0.170849        0.274833   \n",
      "open pif             0.094408        0.638956        0.620546        0.074107   \n",
      "\n",
      "                moex rx equity  gmkn rx equity  mtss rx equity  open pif  \n",
      "rog sw equity         0.031895       -0.124118       -0.015950  0.094408  \n",
      "alrs rx equity        0.468895        0.152530        0.283471  0.638956  \n",
      "yndx rx equity        0.525695        0.013790        0.170849  0.620546  \n",
      "solecmvt index        0.302035        0.291811        0.274833  0.074107  \n",
      "moex rx equity        1.000000        0.276289        0.299780  0.670502  \n",
      "gmkn rx equity        0.276289        1.000000        0.342554  0.406332  \n",
      "mtss rx equity        0.299780        0.342554        1.000000  0.414267  \n",
      "open pif              0.670502        0.406332        0.414267  1.000000  \n",
      "Scenarios ready!\n"
     ]
    }
   ],
   "source": [
    "n_scenarios = 50000\n",
    "simulation_years = max_term   \n",
    "\n",
    "returns = ba_scenarios(all_BAs, \n",
    "                       simulation_years,  \n",
    "                       n_scenarios, \n",
    "                       print_statistics = True,\n",
    "                       points_in_year = 12)\n",
    "print('Scenarios ready!')"
   ]
  },
  {
   "cell_type": "code",
   "execution_count": 5,
   "metadata": {
    "collapsed": false,
    "scrolled": false
   },
   "outputs": [
    {
     "name": "stdout",
     "output_type": "stream",
     "text": [
      "calculating GMKN AM\n",
      "calculating Rosche AM\n",
      "calculating Basket coupon\n",
      "calculating Open PIF\n",
      "calculating Solars\n",
      "Done!\n"
     ]
    }
   ],
   "source": [
    "flag = 1\n",
    "for prod in prod_list:\n",
    "    \n",
    "    print('calculating ' + prod.name)\n",
    "    \n",
    "    a1 = prod.payoff(all_BAs, returns, to_pdf = False)\n",
    "    # a1 - массив размера self.time_steps x n_scenarios\n",
    "    \n",
    "    a2 = np.ones((a1.shape[0]+1,a1.shape[1]))*(-1)\n",
    "    a2[1:,:] = a1\n",
    "    a3 = np.array([np.irr(x) for x in np.transpose(a2)])\n",
    "    \n",
    "    x = a3.std()\n",
    "    y = a3.mean()\n",
    "    z = a3.min()\n",
    "\n",
    "    if flag == 1:\n",
    "        flag = 0\n",
    "        payoffs = a1\n",
    "        irrs = a3\n",
    "        points1 = [x, y]\n",
    "        points2 = [z, y]\n",
    "        \n",
    "        names = [prod.name]\n",
    "    else:\n",
    "        payoffs = np.dstack([payoffs, a1])\n",
    "        irrs = np.c_[irrs, a3]\n",
    "        points1 = np.c_[points1, [x, y]]\n",
    "        points2 = np.c_[points2, [z, y]]\n",
    "        names.append(prod.name)\n",
    "print('Done!')"
   ]
  },
  {
   "cell_type": "code",
   "execution_count": 6,
   "metadata": {
    "collapsed": false
   },
   "outputs": [
    {
     "data": {
      "image/png": "[encoded data removed]",
      "text/plain": [
       "<matplotlib.figure.Figure at 0x1167fb550>"
      ]
     },
     "metadata": {},
     "output_type": "display_data"
    }
   ],
   "source": [
    "# посмотрим продукты на плоскости риск-доходность:\n",
    "\n",
    "plt.scatter(points2[0,:], points2[1,:])\n",
    "plt.show()"
   ]
  },
  {
   "cell_type": "code",
   "execution_count": 7,
   "metadata": {
    "collapsed": false
   },
   "outputs": [
    {
     "data": {
      "image/png": "[encoded data removed]",
      "text/plain": [
       "<matplotlib.figure.Figure at 0x11d2b4240>"
      ]
     },
     "metadata": {},
     "output_type": "display_data"
    }
   ],
   "source": [
    "plt.hist(payoffs[:,:,-1].sum(axis = 0), bins = 100)\n",
    "plt.show()"
   ]
  },
  {
   "cell_type": "code",
   "execution_count": null,
   "metadata": {
    "collapsed": false
   },
   "outputs": [],
   "source": []
  },
  {
   "cell_type": "code",
   "execution_count": 8,
   "metadata": {
    "collapsed": false
   },
   "outputs": [],
   "source": [
    "r1 = returns[-1,:,0]"
   ]
  },
  {
   "cell_type": "code",
   "execution_count": 9,
   "metadata": {
    "collapsed": false
   },
   "outputs": [
    {
     "data": {
      "text/plain": [
       "38643.908672973696"
      ]
     },
     "execution_count": 9,
     "metadata": {},
     "output_type": "execute_result"
    }
   ],
   "source": [
    "r1[r1>1].sum()"
   ]
  },
  {
   "cell_type": "code",
   "execution_count": 10,
   "metadata": {
    "collapsed": false
   },
   "outputs": [
    {
     "ename": "IndexError",
     "evalue": "too many indices for array",
     "output_type": "error",
     "traceback": [
      "\u001b[0;31m---------------------------------------------------------------------------\u001b[0m",
      "\u001b[0;31mIndexError\u001b[0m                                Traceback (most recent call last)",
      "\u001b[0;32m<ipython-input-10-edace50082f9>\u001b[0m in \u001b[0;36m<module>\u001b[0;34m()\u001b[0m\n\u001b[0;32m----> 1\u001b[0;31m \u001b[0mr1\u001b[0m\u001b[0;34m[\u001b[0m\u001b[0;34m-\u001b[0m\u001b[0;36m1\u001b[0m\u001b[0;34m,\u001b[0m\u001b[0;34m:\u001b[0m\u001b[0;34m]\u001b[0m\u001b[0;34m.\u001b[0m\u001b[0msum\u001b[0m\u001b[0;34m(\u001b[0m\u001b[0;34m)\u001b[0m\u001b[0;34m\u001b[0m\u001b[0;34m\u001b[0m\u001b[0m\n\u001b[0m",
      "\u001b[0;31mIndexError\u001b[0m: too many indices for array"
     ]
    }
   ],
   "source": [
    "r1[-1,:].sum()"
   ]
  },
  {
   "cell_type": "code",
   "execution_count": null,
   "metadata": {
    "collapsed": false
   },
   "outputs": [],
   "source": [
    "r1.shape"
   ]
  },
  {
   "cell_type": "code",
   "execution_count": null,
   "metadata": {
    "collapsed": false
   },
   "outputs": [],
   "source": [
    "p1 = payoffs.shape"
   ]
  },
  {
   "cell_type": "code",
   "execution_count": null,
   "metadata": {
    "collapsed": false
   },
   "outputs": [],
   "source": []
  },
  {
   "cell_type": "code",
   "execution_count": null,
   "metadata": {
    "collapsed": true
   },
   "outputs": [],
   "source": []
  }
 ],
 "metadata": {
  "kernelspec": {
   "display_name": "Python 3",
   "language": "python",
   "name": "python3"
  },
  "language_info": {
   "codemirror_mode": {
    "name": "ipython",
    "version": 3
   },
   "file_extension": ".py",
   "mimetype": "text/x-python",
   "name": "python",
   "nbconvert_exporter": "python",
   "pygments_lexer": "ipython3",
   "version": "3.6.7"
  }
 },
 "nbformat": 4,
 "nbformat_minor": 2
}
