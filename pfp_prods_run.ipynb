{
 "cells": [
  {
   "cell_type": "code",
   "execution_count": 1,
   "metadata": {
    "collapsed": false
   },
   "outputs": [],
   "source": [
    "from pfp_stat import *\n",
    "\n",
    "import numpy as np\n",
    "import pandas as pd \n",
    "\n",
    "import pandas_datareader.data as web\n",
    "import matplotlib.pyplot as plt\n",
    "import matplotlib\n",
    "\n",
    "import datetime as dat\n",
    "\n",
    "from pylab import title, figure, xlabel, ylabel, xticks, bar, legend, axis, savefig\n",
    "from fpdf import FPDF\n",
    "import fpdf\n",
    "\n",
    "from pfp_products import *\n",
    "\n",
    "import os.path\n",
    "from scipy.optimize import minimize"
   ]
  },
  {
   "cell_type": "code",
   "execution_count": 2,
   "metadata": {
    "collapsed": false
   },
   "outputs": [
    {
     "name": "stdout",
     "output_type": "stream",
     "text": [
      "Okay, lets see what we have here.\n",
      "I`m using `prod cat` sheet of `inputs/prod_cat open.xlsx` file as product catalog.\n",
      "...\n",
      "All products from `prod cat.xls` except mentioned above are successfully loaded.\n"
     ]
    }
   ],
   "source": [
    "print('Okay, lets see what we have here.')\n",
    "\n",
    "prodcat_filename = 'inputs/prod_cat open.xlsx'\n",
    "prodcat_sheetname = 'prod cat'\n",
    "\n",
    "xls = pd.read_excel(prodcat_filename, prodcat_sheetname, \n",
    "                         decimal = '.', usecols = 'b:z', \n",
    "                         index_col = 0, header = 1)\n",
    "\n",
    "print('I`m using `' + prodcat_sheetname + '` sheet of `' + prodcat_filename + '` file as product catalog.')\n",
    "\n",
    "products = xls.transpose()\n",
    "all_BAs = []\n",
    "prod_list = []\n",
    "max_term = 0\n",
    "\n",
    "for prod, row in products.iterrows():\n",
    "    \n",
    "    check = check_stat(row.BAs)\n",
    "    \n",
    "    if check:        \n",
    "        all_BAs.extend(row.BAs.split(', '))\n",
    "        all_BAs = list(set(all_BAs))\n",
    "        \n",
    "        if row.term > max_term: max_term = row.term\n",
    "\n",
    "        Note1 = Structure(prod, row.BAs, row.notional_curr, row.term, \n",
    "                  row.coupon_value, row.coupon_always, row.coupon_check_months, row.coupon_memory, \n",
    "                  row.coupon_lower_barrier, row.coupon_upper_barrier,\n",
    "                  row.autocall_flag, row.autocall_check_months, row.autocall_barrier, row.autocall_barrier_increase_rate,\n",
    "                  row.redemption_amount, row.redemption_put_strike, row.redemption_guarantee_rule,\n",
    "                  row.redemption_upside_participation, row.redemption_downside_participation, row.issuer)\n",
    "        Note1.stats_ok = True\n",
    "        \n",
    "        prod_list.append(Note1)\n",
    "    else: \n",
    "        print ('We dont have enough statistics for ' + row.name + ' underlyings. We do not calculate it now.')\n",
    "\n",
    "print('...')\n",
    "print('All products from `prod cat.xls` except mentioned above are successfully loaded.')"
   ]
  },
  {
   "cell_type": "code",
   "execution_count": 3,
   "metadata": {
    "collapsed": false,
    "scrolled": false
   },
   "outputs": [
    {
     "name": "stdout",
     "output_type": "stream",
     "text": [
      "Returns: \n",
      "gmkn rx equity    0.079\n",
      "rog sw equity     0.034\n",
      "alrs rx equity    0.087\n",
      "solecmvt index    0.025\n",
      "mtss rx equity    0.092\n",
      "moex rx equity    0.082\n",
      "yndx rx equity    0.121\n",
      "open pif          0.121\n",
      "Name: r, dtype: float64\n",
      " \n",
      "Sigmas: \n",
      "gmkn rx equity    0.191840\n",
      "rog sw equity     0.156097\n",
      "alrs rx equity    0.278227\n",
      "solecmvt index    0.096891\n",
      "mtss rx equity    0.249655\n",
      "moex rx equity    0.213164\n",
      "yndx rx equity    0.323618\n",
      "open pif          0.143242\n",
      "dtype: float32\n",
      " \n",
      "Correlations: \n",
      "\n",
      "                gmkn rx equity  rog sw equity  alrs rx equity  solecmvt index  \\\n",
      "gmkn rx equity        1.000000      -0.124118        0.152530        0.291811   \n",
      "rog sw equity        -0.124118       1.000000        0.076384        0.011685   \n",
      "alrs rx equity        0.152530       0.076384        1.000000        0.134812   \n",
      "solecmvt index        0.291811       0.011685        0.134812        1.000000   \n",
      "mtss rx equity        0.342554      -0.015950        0.283471        0.274833   \n",
      "moex rx equity        0.276289       0.031895        0.468895        0.302035   \n",
      "yndx rx equity        0.013790      -0.005998        0.522795        0.099164   \n",
      "open pif              0.406332       0.094408        0.638956        0.074107   \n",
      "\n",
      "                mtss rx equity  moex rx equity  yndx rx equity  open pif  \n",
      "gmkn rx equity        0.342554        0.276289        0.013790  0.406332  \n",
      "rog sw equity        -0.015950        0.031895       -0.005998  0.094408  \n",
      "alrs rx equity        0.283471        0.468895        0.522795  0.638956  \n",
      "solecmvt index        0.274833        0.302035        0.099164  0.074107  \n",
      "mtss rx equity        1.000000        0.299780        0.170849  0.414267  \n",
      "moex rx equity        0.299780        1.000000        0.525695  0.670502  \n",
      "yndx rx equity        0.170849        0.525695        1.000000  0.620546  \n",
      "open pif              0.414267        0.670502        0.620546  1.000000  \n",
      "Scenarios ready!\n"
     ]
    }
   ],
   "source": [
    "n_scenarios = 50000\n",
    "simulation_years = max_term   \n",
    "\n",
    "returns = ba_scenarios(all_BAs, \n",
    "                       simulation_years,  \n",
    "                       n_scenarios, \n",
    "                       print_statistics = True,\n",
    "                       points_in_year = 12)\n",
    "print('Scenarios ready!')"
   ]
  },
  {
   "cell_type": "code",
   "execution_count": 4,
   "metadata": {
    "collapsed": false,
    "scrolled": false
   },
   "outputs": [
    {
     "name": "stdout",
     "output_type": "stream",
     "text": [
      "Calculating GMKN AM\n",
      "    mean return (annualized IRR):    0.036\n",
      "    min return (annualized IRR):    0.000\n",
      "Calculating Rosche AM\n",
      "    mean return (annualized IRR):    0.024\n",
      "    min return (annualized IRR):    0.000\n",
      "Calculating Basket coupon\n",
      "    mean return (annualized IRR):    0.045\n",
      "    min return (annualized IRR):    0.000\n",
      "Calculating Open PIF\n",
      "    mean return (annualized IRR):    0.121\n",
      "    min return (annualized IRR):    -0.185\n",
      "Calculating Solars\n",
      "    mean return (annualized IRR):    0.028\n",
      "    min return (annualized IRR):    0.000\n",
      "Done!\n"
     ]
    }
   ],
   "source": [
    "flag = 1\n",
    "for prod in prod_list:\n",
    "    \n",
    "    print('Calculating ' + prod.name)\n",
    "    \n",
    "    a1 = prod.payoff(all_BAs, returns, to_pdf = False)\n",
    "    # a1 - массив размера self.time_steps x n_scenarios\n",
    "    \n",
    "    a2 = np.ones((a1.shape[0]+1,a1.shape[1]))*(-1)\n",
    "    a2[1:,:] = a1\n",
    "    a3 = np.array([np.irr(x) for x in np.transpose(a2)])\n",
    "    \n",
    "    x = a3.std()\n",
    "    y = a3.mean()\n",
    "    z = a3.min()\n",
    "    \n",
    "    print('    mean return (annualized IRR):    %4.3f' %y)\n",
    "    print('    min return (annualized IRR):    %4.3f' %z)\n",
    "\n",
    "    if flag == 1:\n",
    "        flag = 0\n",
    "        payoffs = a1\n",
    "        irrs = a3\n",
    "        points1 = [x, y]\n",
    "        points2 = [z, y]\n",
    "        \n",
    "        names = [prod.name]\n",
    "    else:\n",
    "        payoffs = np.dstack([payoffs, a1])\n",
    "        irrs = np.c_[irrs, a3]\n",
    "        points1 = np.c_[points1, [x, y]]\n",
    "        points2 = np.c_[points2, [z, y]]\n",
    "        names.append(prod.name)\n",
    "print('Done!')"
   ]
  },
  {
   "cell_type": "code",
   "execution_count": null,
   "metadata": {
    "collapsed": false,
    "scrolled": false
   },
   "outputs": [
    {
     "data": {
      "image/png": "[encoded data removed]",
      "text/plain": [
       "<matplotlib.figure.Figure at 0x1214d6e80>"
      ]
     },
     "metadata": {},
     "output_type": "display_data"
    }
   ],
   "source": [
    "# посмотрим продукты на плоскости риск-доходность:\n",
    "\n",
    "plt.scatter(points2[0,:], points2[1,:])\n",
    "plt.show()"
   ]
  },
  {
   "cell_type": "code",
   "execution_count": null,
   "metadata": {
    "collapsed": false
   },
   "outputs": [
    {
     "name": "stdout",
     "output_type": "stream",
     "text": [
      "Optimization terminated successfully.    (Exit mode 0)\n",
      "            Current function value: -1.4877903273416282\n",
      "            Iterations: 7\n",
      "            Function evaluations: 51\n",
      "            Gradient evaluations: 7\n",
      "Done: 1 or of 20\n",
      "Optimization terminated successfully.    (Exit mode 0)\n",
      "            Current function value: -1.3306269653417535\n",
      "            Iterations: 6\n",
      "            Function evaluations: 43\n",
      "            Gradient evaluations: 6\n",
      "Done: 2 or of 20\n",
      "Optimization terminated successfully.    (Exit mode 0)\n",
      "            Current function value: -1.199628178943283\n",
      "            Iterations: 8\n",
      "            Function evaluations: 57\n",
      "            Gradient evaluations: 8\n",
      "Done: 3 or of 20\n",
      "Optimization terminated successfully.    (Exit mode 0)\n",
      "            Current function value: -1.1047563193892878\n",
      "            Iterations: 9\n",
      "            Function evaluations: 76\n",
      "            Gradient evaluations: 9\n",
      "Done: 4 or of 20\n",
      "Optimization terminated successfully.    (Exit mode 0)\n",
      "            Current function value: -1.040111905546704\n",
      "            Iterations: 16\n",
      "            Function evaluations: 134\n",
      "            Gradient evaluations: 16\n",
      "Done: 5 or of 20\n",
      "Optimization terminated successfully.    (Exit mode 0)\n",
      "            Current function value: -0.9831222629438295\n",
      "            Iterations: 94\n",
      "            Function evaluations: 1066\n",
      "            Gradient evaluations: 94\n",
      "Done: 6 or of 20\n"
     ]
    }
   ],
   "source": [
    "%%time\n",
    "\n",
    "flag = 1\n",
    "\n",
    "for counter in range(10):\n",
    "    \n",
    "    r = (counter + 1) / 200\n",
    "    \n",
    "\n",
    "    def mirr(wghts):\n",
    "        a1 = (payoffs*wghts).sum(axis = 2)    \n",
    "        a2 = np.ones((a1.shape[0]+1,a1.shape[1]))*(-1)\n",
    "        a2[1:,:] = a1\n",
    "        a3 = np.array([np.irr(x) for x in np.transpose(a2)]) \n",
    "        return a3\n",
    "\n",
    "    def func(wghts):\n",
    "        a3 = mirr(wghts)\n",
    "        return -(a3.mean() - r)/(a3.std())\n",
    "\n",
    "    # задаем ограничения на веса:\n",
    "    cons = ({'type': 'eq', 'fun' : lambda x: x.sum()-1},\n",
    "            {'type': 'ineq','fun' : lambda x: 1 - x.max()},\n",
    "            {'type': 'ineq','fun' : lambda x: x.min()})\n",
    "\n",
    "    # начальные значения весов (всех продуктов поровну)\n",
    "    x0 = np.ones(payoffs.shape[-1])/payoffs.shape[-1]\n",
    "    res = minimize(func, x0, method='SLSQP', options={'disp': True}, constraints=cons)\n",
    "\n",
    "    if flag == 1:\n",
    "        flag = 0\n",
    "        optimals = res.x\n",
    "    else:\n",
    "        optimals = np.c_[optimals, res.x]\n",
    "\n",
    "    print('Done: %i or of %i' %(counter+1, 20))"
   ]
  },
  {
   "cell_type": "code",
   "execution_count": null,
   "metadata": {
    "collapsed": false
   },
   "outputs": [],
   "source": [
    "print('weights:')\n",
    "with np.printoptions(precision=3, suppress=True):\n",
    "    print(res.x)\n"
   ]
  },
  {
   "cell_type": "code",
   "execution_count": null,
   "metadata": {
    "collapsed": false
   },
   "outputs": [],
   "source": [
    "plt.scatter(points1[0,:], points1[1,:], c='blue')\n",
    "plt.scatter(mirr(res.x).std(), mirr(res.x).mean(), c='red')\n",
    "\n",
    "for i, txt in enumerate(names):\n",
    "    plt.annotate(txt, (points1[0,i], points1[1,i]))\n",
    "plt.show()"
   ]
  },
  {
   "cell_type": "code",
   "execution_count": null,
   "metadata": {
    "collapsed": false
   },
   "outputs": [],
   "source": [
    "plt.hist(payoffs[:,:,-1].sum(axis = 0), bins = 100)\n",
    "plt.show()"
   ]
  },
  {
   "cell_type": "code",
   "execution_count": null,
   "metadata": {
    "collapsed": true
   },
   "outputs": [],
   "source": [
    "d"
   ]
  },
  {
   "cell_type": "code",
   "execution_count": null,
   "metadata": {
    "collapsed": true
   },
   "outputs": [],
   "source": []
  }
 ],
 "metadata": {
  "kernelspec": {
   "display_name": "Python 3",
   "language": "python",
   "name": "python3"
  },
  "language_info": {
   "codemirror_mode": {
    "name": "ipython",
    "version": 3
   },
   "file_extension": ".py",
   "mimetype": "text/x-python",
   "name": "python",
   "nbconvert_exporter": "python",
   "pygments_lexer": "ipython3",
   "version": "3.6.7"
  }
 },
 "nbformat": 4,
 "nbformat_minor": 2
}
