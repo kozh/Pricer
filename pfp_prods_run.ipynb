{
 "cells": [
  {
   "cell_type": "code",
   "execution_count": 1,
   "metadata": {
    "collapsed": false
   },
   "outputs": [],
   "source": [
    "from pfp_stat import *\n",
    "\n",
    "import numpy as np\n",
    "import pandas as pd \n",
    "\n",
    "import pandas_datareader.data as web\n",
    "import matplotlib.pyplot as plt\n",
    "import matplotlib\n",
    "\n",
    "import datetime as dat\n",
    "\n",
    "from pylab import title, figure, xlabel, ylabel, xticks, bar, legend, axis, savefig\n",
    "from fpdf import FPDF\n",
    "import fpdf\n",
    "\n",
    "from pfp_products import *\n",
    "\n",
    "import os.path\n",
    "from scipy.optimize import minimize"
   ]
  },
  {
   "cell_type": "code",
   "execution_count": 2,
   "metadata": {
    "collapsed": false
   },
   "outputs": [
    {
     "name": "stdout",
     "output_type": "stream",
     "text": [
      "Okay, lets see what we have here.\n",
      "I`m using `prod cat` sheet of `inputs/prod_cat open.xlsx` file as product catalog.\n",
      "...\n",
      "All products from `prod cat.xls` except mentioned above are successfully loaded.\n"
     ]
    }
   ],
   "source": [
    "print('Okay, lets see what we have here.')\n",
    "\n",
    "prodcat_filename = 'inputs/prod_cat open.xlsx'\n",
    "prodcat_sheetname = 'prod cat'\n",
    "\n",
    "xls = pd.read_excel(prodcat_filename, prodcat_sheetname, \n",
    "                         decimal = '.', usecols = 'b:z', \n",
    "                         index_col = 0, header = 1)\n",
    "\n",
    "print('I`m using `' + prodcat_sheetname + '` sheet of `' + prodcat_filename + '` file as product catalog.')\n",
    "\n",
    "products = xls.transpose()\n",
    "all_BAs = []\n",
    "prod_list = []\n",
    "max_term = 0\n",
    "\n",
    "for prod, row in products.iterrows():\n",
    "    \n",
    "    check = check_stat(row.BAs)\n",
    "    \n",
    "    if check:        \n",
    "        all_BAs.extend(row.BAs.split(', '))\n",
    "        all_BAs = list(set(all_BAs))\n",
    "        \n",
    "        if row.term > max_term: max_term = row.term\n",
    "\n",
    "        Note1 = Structure(prod, row.BAs, row.notional_curr, row.term, \n",
    "                  row.coupon_value, row.coupon_always, row.coupon_check_months, row.coupon_memory, \n",
    "                  row.coupon_lower_barrier, row.coupon_upper_barrier,\n",
    "                  row.autocall_flag, row.autocall_check_months, row.autocall_barrier, row.autocall_barrier_increase_rate,\n",
    "                  row.redemption_amount, row.redemption_put_strike, row.redemption_guarantee_rule,\n",
    "                  row.redemption_upside_participation, row.redemption_downside_participation, row.issuer)\n",
    "        Note1.stats_ok = True\n",
    "        \n",
    "        prod_list.append(Note1)\n",
    "    else: \n",
    "        print ('We dont have enough statistics for ' + row.name + ' underlyings. We do not calculate it now.')\n",
    "\n",
    "print('...')\n",
    "print('All products from `prod cat.xls` except mentioned above are successfully loaded.')"
   ]
  },
  {
   "cell_type": "code",
   "execution_count": 3,
   "metadata": {
    "collapsed": false,
    "scrolled": false
   },
   "outputs": [
    {
     "name": "stdout",
     "output_type": "stream",
     "text": [
      "Returns: \n",
      "moex rx equity    0.080\n",
      "open pif          0.120\n",
      "gmkn rx equity    0.080\n",
      "solecmvt index    0.020\n",
      "yndx rx equity    0.120\n",
      "rog sw equity     0.034\n",
      "alrs rx equity    0.087\n",
      "mtss rx equity    0.092\n",
      "Name: r, dtype: float64\n",
      " \n",
      "Sigmas: \n",
      "moex rx equity    0.213164\n",
      "open pif          0.143242\n",
      "gmkn rx equity    0.191840\n",
      "solecmvt index    0.096891\n",
      "yndx rx equity    0.323618\n",
      "rog sw equity     0.156097\n",
      "alrs rx equity    0.278227\n",
      "mtss rx equity    0.249655\n",
      "dtype: float32\n",
      " \n",
      "Correlations: \n",
      "\n",
      "                moex rx equity  open pif  gmkn rx equity  solecmvt index  \\\n",
      "moex rx equity        1.000000  0.670502        0.276289        0.302035   \n",
      "open pif              0.670502  1.000000        0.406332        0.074107   \n",
      "gmkn rx equity        0.276289  0.406332        1.000000        0.291811   \n",
      "solecmvt index        0.302035  0.074107        0.291811        1.000000   \n",
      "yndx rx equity        0.525695  0.620546        0.013790        0.099164   \n",
      "rog sw equity         0.031895  0.094408       -0.124118        0.011685   \n",
      "alrs rx equity        0.468895  0.638956        0.152530        0.134812   \n",
      "mtss rx equity        0.299780  0.414267        0.342554        0.274833   \n",
      "\n",
      "                yndx rx equity  rog sw equity  alrs rx equity  mtss rx equity  \n",
      "moex rx equity        0.525695       0.031895        0.468895        0.299780  \n",
      "open pif              0.620546       0.094408        0.638956        0.414267  \n",
      "gmkn rx equity        0.013790      -0.124118        0.152530        0.342554  \n",
      "solecmvt index        0.099164       0.011685        0.134812        0.274833  \n",
      "yndx rx equity        1.000000      -0.005998        0.522795        0.170849  \n",
      "rog sw equity        -0.005998       1.000000        0.076384       -0.015950  \n",
      "alrs rx equity        0.522795       0.076384        1.000000        0.283471  \n",
      "mtss rx equity        0.170849      -0.015950        0.283471        1.000000  \n"
     ]
    }
   ],
   "source": [
    "n_scenarios = 50000\n",
    "simulation_years = max_term   \n",
    "\n",
    "returns = ba_scenarios(all_BAs, \n",
    "                       simulation_years,  \n",
    "                       n_scenarios, \n",
    "                       print_statistics = True)"
   ]
  },
  {
   "cell_type": "code",
   "execution_count": 4,
   "metadata": {
    "collapsed": false
   },
   "outputs": [
    {
     "name": "stdout",
     "output_type": "stream",
     "text": [
      "calculating GMKN AM\n",
      "calculating Rosche AM\n",
      "calculating Basket coupon\n",
      "calculating Open PIF\n",
      "calculating Solars\n",
      "Done!\n"
     ]
    }
   ],
   "source": [
    "flag = 1\n",
    "for prod in prod_list:\n",
    "    \n",
    "    print('calculating ' + prod.name)\n",
    "    a1 = prod.payoff(all_BAs, returns, True)\n",
    "    x = a1.std()\n",
    "    y = a1.mean()\n",
    "\n",
    "    if flag == 1:\n",
    "        flag = 0\n",
    "        payoffs = a1  \n",
    "        points = [x, y]\n",
    "        names = [prod.name]\n",
    "    else:\n",
    "        payoffs = np.c_[payoffs, a1]\n",
    "        points = np.c_[points, [x, y]]\n",
    "        names.append(prod.name)\n",
    "print('Done!')"
   ]
  },
  {
   "cell_type": "code",
   "execution_count": 5,
   "metadata": {
    "collapsed": false
   },
   "outputs": [
    {
     "data": {
      "image/png": "[encoded data removed]",
      "text/plain": [
       "<matplotlib.figure.Figure at 0x118fac470>"
      ]
     },
     "metadata": {},
     "output_type": "display_data"
    }
   ],
   "source": [
    "# посмотрим продукты на плоскости риск-доходность:\n",
    "\n",
    "plt.scatter(points[0,:], points[1,:])\n",
    "plt.show()"
   ]
  },
  {
   "cell_type": "code",
   "execution_count": 6,
   "metadata": {
    "collapsed": true
   },
   "outputs": [],
   "source": [
    "# Определяем функции доходности (веса * среднюю дохдность) и риска (стандартное отклонение результата портфеля):\n",
    "\n",
    "def return_forecast(wghts):\n",
    "    return float(((payoffs*wghts).sum(axis = 1).mean()))\n",
    "\n",
    "def func(wghts):\n",
    "    ff1 = (payoffs*wghts).sum(axis = 1)\n",
    "    return -(ff1.mean())/(ff1.std())"
   ]
  },
  {
   "cell_type": "code",
   "execution_count": 7,
   "metadata": {
    "collapsed": false
   },
   "outputs": [
    {
     "name": "stdout",
     "output_type": "stream",
     "text": [
      "Optimization terminated successfully.    (Exit mode 0)\n",
      "            Current function value: -16.59766836655076\n",
      "            Iterations: 8\n",
      "            Function evaluations: 69\n",
      "            Gradient evaluations: 8\n",
      "weights:\n",
      "[1.77612465e-01 3.82582416e-01 1.42575758e-01 3.30681663e-18\n",
      " 2.97229361e-01]\n"
     ]
    }
   ],
   "source": [
    "# задаем ограничения на веса:\n",
    "cons = ({'type': 'eq', 'fun' : lambda x: x.sum()-1},\n",
    "        {'type': 'ineq','fun' : lambda x: 1 - x.max()},\n",
    "        {'type': 'ineq','fun' : lambda x: x.min()})\n",
    "\n",
    "# начальные значения весов (всех продуктов поровну)\n",
    "x0 = np.ones(payoffs.shape[-1])/payoffs.shape[-1]\n",
    "res = minimize(func, x0, method='SLSQP', options={'disp': True}, constraints=cons)\n",
    "\n",
    "print('weights:')\n",
    "print(res.x)"
   ]
  },
  {
   "cell_type": "code",
   "execution_count": 8,
   "metadata": {
    "collapsed": false
   },
   "outputs": [
    {
     "data": {
      "image/png": "[encoded data removed]",
      "text/plain": [
       "<matplotlib.figure.Figure at 0x1185146a0>"
      ]
     },
     "metadata": {},
     "output_type": "display_data"
    }
   ],
   "source": [
    "plt.scatter(points[0,:], points[1,:], c='blue')\n",
    "plt.scatter(((payoffs*res.x).sum(axis = 1)).std(), ((payoffs*res.x).sum(axis = 1)).mean(), c='red')\n",
    "\n",
    "for i, txt in enumerate(names):\n",
    "    plt.annotate(txt, (points[0,i], points[1,i]))\n",
    "plt.show()"
   ]
  },
  {
   "cell_type": "code",
   "execution_count": 9,
   "metadata": {
    "collapsed": false
   },
   "outputs": [
    {
     "name": "stdout",
     "output_type": "stream",
     "text": [
      "GMKN AM\n"
     ]
    },
    {
     "data": {
      "image/png": "[encoded data removed]",
      "text/plain": [
       "<matplotlib.figure.Figure at 0x11851c198>"
      ]
     },
     "metadata": {},
     "output_type": "display_data"
    },
    {
     "name": "stdout",
     "output_type": "stream",
     "text": [
      "Rosche AM\n"
     ]
    },
    {
     "data": {
      "image/png": "[encoded data removed]",
      "text/plain": [
       "<matplotlib.figure.Figure at 0x118670f28>"
      ]
     },
     "metadata": {},
     "output_type": "display_data"
    },
    {
     "name": "stdout",
     "output_type": "stream",
     "text": [
      "Basket coupon\n"
     ]
    },
    {
     "data": {
      "image/png": "[encoded data removed]",
      "text/plain": [
       "<matplotlib.figure.Figure at 0x118488668>"
      ]
     },
     "metadata": {},
     "output_type": "display_data"
    },
    {
     "name": "stdout",
     "output_type": "stream",
     "text": [
      "Open PIF\n"
     ]
    },
    {
     "data": {
      "image/png": "[encoded data removed]",
      "text/plain": [
       "<matplotlib.figure.Figure at 0x118c939e8>"
      ]
     },
     "metadata": {},
     "output_type": "display_data"
    },
    {
     "name": "stdout",
     "output_type": "stream",
     "text": [
      "Solars\n"
     ]
    },
    {
     "data": {
      "image/png": "[encoded data removed]",
      "text/plain": [
       "<matplotlib.figure.Figure at 0x118bd7278>"
      ]
     },
     "metadata": {},
     "output_type": "display_data"
    }
   ],
   "source": [
    "for j in range(payoffs.shape[1]):\n",
    "    print(prod_list[j].name)\n",
    "    plt.hist(payoffs[:,j], bins = 100)\n",
    "    plt.show()"
   ]
  },
  {
   "cell_type": "code",
   "execution_count": 10,
   "metadata": {
    "collapsed": false
   },
   "outputs": [
    {
     "data": {
      "text/plain": [
       "5"
      ]
     },
     "execution_count": 10,
     "metadata": {},
     "output_type": "execute_result"
    }
   ],
   "source": [
    "payoffs.shape[1]"
   ]
  },
  {
   "cell_type": "code",
   "execution_count": null,
   "metadata": {
    "collapsed": true
   },
   "outputs": [],
   "source": []
  }
 ],
 "metadata": {
  "kernelspec": {
   "display_name": "Python 3",
   "language": "python",
   "name": "python3"
  },
  "language_info": {
   "codemirror_mode": {
    "name": "ipython",
    "version": 3
   },
   "file_extension": ".py",
   "mimetype": "text/x-python",
   "name": "python",
   "nbconvert_exporter": "python",
   "pygments_lexer": "ipython3",
   "version": "3.6.7"
  }
 },
 "nbformat": 4,
 "nbformat_minor": 2
}
