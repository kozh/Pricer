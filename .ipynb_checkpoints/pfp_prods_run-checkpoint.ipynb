{
 "cells": [
  {
   "cell_type": "code",
   "execution_count": 1,
   "metadata": {
    "collapsed": false
   },
   "outputs": [],
   "source": [
    "from pfp_stat import *\n",
    "\n",
    "import numpy as np\n",
    "import pandas as pd \n",
    "\n",
    "import pandas_datareader.data as web\n",
    "import matplotlib.pyplot as plt\n",
    "import matplotlib\n",
    "\n",
    "import datetime as dat\n",
    "\n",
    "from pylab import title, figure, xlabel, ylabel, xticks, bar, legend, axis, savefig\n",
    "from fpdf import FPDF\n",
    "import fpdf\n",
    "\n",
    "from pfp_products import *\n",
    "\n",
    "import os.path\n",
    "from scipy.optimize import minimize"
   ]
  },
  {
   "cell_type": "code",
   "execution_count": 2,
   "metadata": {
    "collapsed": true
   },
   "outputs": [],
   "source": [
    "def mirr(wghts):\n",
    "    a1 = (payoffs*wghts).sum(axis = 2)    \n",
    "    a2 = np.ones((a1.shape[0]+1,a1.shape[1]))*(-1)\n",
    "    a2[1:,:] = a1\n",
    "    a3 = np.array([np.irr(x) for x in np.transpose(a2)]) \n",
    "    return a3"
   ]
  },
  {
   "cell_type": "code",
   "execution_count": 3,
   "metadata": {
    "collapsed": false
   },
   "outputs": [
    {
     "name": "stdout",
     "output_type": "stream",
     "text": [
      "Okay, lets see what we have here.\n",
      "I`m using `prod cat` sheet of `inputs/prod_cat open.xlsx` file as product catalog.\n",
      "...\n",
      "All products from `prod cat.xls` except mentioned above are successfully loaded.\n"
     ]
    }
   ],
   "source": [
    "print('Okay, lets see what we have here.')\n",
    "\n",
    "prodcat_filename = 'inputs/prod_cat open.xlsx'\n",
    "prodcat_sheetname = 'prod cat'\n",
    "\n",
    "xls = pd.read_excel(prodcat_filename, prodcat_sheetname, \n",
    "                         decimal = '.', usecols = 'b:z', \n",
    "                         index_col = 0, header = 1)\n",
    "\n",
    "print('I`m using `' + prodcat_sheetname + '` sheet of `' + prodcat_filename + '` file as product catalog.')\n",
    "\n",
    "products = xls.transpose()\n",
    "all_BAs = []\n",
    "prod_list = []\n",
    "max_term = 0\n",
    "\n",
    "for prod, row in products.iterrows():\n",
    "    \n",
    "    check = check_stat(row.BAs)\n",
    "    \n",
    "    if check:        \n",
    "        all_BAs.extend(row.BAs.split(', '))\n",
    "        all_BAs = list(set(all_BAs))\n",
    "        \n",
    "        if row.term > max_term: max_term = row.term\n",
    "\n",
    "        Note1 = Structure(prod, row.BAs, row.notional_curr, row.term, \n",
    "                  row.coupon_value, row.coupon_always, row.coupon_check_months, row.coupon_memory, \n",
    "                  row.coupon_lower_barrier, row.coupon_upper_barrier,\n",
    "                  row.autocall_flag, row.autocall_check_months, row.autocall_barrier, row.autocall_barrier_increase_rate,\n",
    "                  row.redemption_amount, row.redemption_put_strike, row.redemption_guarantee_rule,\n",
    "                  row.redemption_upside_participation, row.redemption_downside_participation, row.issuer)\n",
    "        Note1.stats_ok = True\n",
    "        \n",
    "        prod_list.append(Note1)\n",
    "    else: \n",
    "        print ('We dont have enough statistics for ' + row.name + ' underlyings. We do not calculate it now.')\n",
    "\n",
    "print('...')\n",
    "print('All products from `prod cat.xls` except mentioned above are successfully loaded.')"
   ]
  },
  {
   "cell_type": "code",
   "execution_count": 4,
   "metadata": {
    "collapsed": false,
    "scrolled": false
   },
   "outputs": [
    {
     "name": "stdout",
     "output_type": "stream",
     "text": [
      "Returns: \n",
      "solecmvt index    0.020\n",
      "rog sw equity     0.034\n",
      "open pif          0.120\n",
      "moex rx equity    0.080\n",
      "gmkn rx equity    0.080\n",
      "mtss rx equity    0.092\n",
      "yndx rx equity    0.120\n",
      "alrs rx equity    0.087\n",
      "Name: r, dtype: float64\n",
      " \n",
      "Sigmas: \n",
      "solecmvt index    0.096891\n",
      "rog sw equity     0.156097\n",
      "open pif          0.143242\n",
      "moex rx equity    0.213164\n",
      "gmkn rx equity    0.191840\n",
      "mtss rx equity    0.249655\n",
      "yndx rx equity    0.323618\n",
      "alrs rx equity    0.278227\n",
      "dtype: float32\n",
      " \n",
      "Correlations: \n",
      "\n",
      "                solecmvt index  rog sw equity  open pif  moex rx equity  \\\n",
      "solecmvt index        1.000000       0.011685  0.074107        0.302035   \n",
      "rog sw equity         0.011685       1.000000  0.094408        0.031895   \n",
      "open pif              0.074107       0.094408  1.000000        0.670502   \n",
      "moex rx equity        0.302035       0.031895  0.670502        1.000000   \n",
      "gmkn rx equity        0.291811      -0.124118  0.406332        0.276289   \n",
      "mtss rx equity        0.274833      -0.015950  0.414267        0.299780   \n",
      "yndx rx equity        0.099164      -0.005998  0.620546        0.525695   \n",
      "alrs rx equity        0.134812       0.076384  0.638956        0.468895   \n",
      "\n",
      "                gmkn rx equity  mtss rx equity  yndx rx equity  alrs rx equity  \n",
      "solecmvt index        0.291811        0.274833        0.099164        0.134812  \n",
      "rog sw equity        -0.124118       -0.015950       -0.005998        0.076384  \n",
      "open pif              0.406332        0.414267        0.620546        0.638956  \n",
      "moex rx equity        0.276289        0.299780        0.525695        0.468895  \n",
      "gmkn rx equity        1.000000        0.342554        0.013790        0.152530  \n",
      "mtss rx equity        0.342554        1.000000        0.170849        0.283471  \n",
      "yndx rx equity        0.013790        0.170849        1.000000        0.522795  \n",
      "alrs rx equity        0.152530        0.283471        0.522795        1.000000  \n",
      "Scenarios ready!\n"
     ]
    }
   ],
   "source": [
    "n_scenarios = 50000\n",
    "simulation_years = max_term   \n",
    "\n",
    "returns = ba_scenarios(all_BAs, \n",
    "                       simulation_years,  \n",
    "                       n_scenarios, \n",
    "                       print_statistics = True,\n",
    "                       points_in_year = 12)\n",
    "print('Scenarios ready!')"
   ]
  },
  {
   "cell_type": "code",
   "execution_count": 5,
   "metadata": {
    "collapsed": false,
    "scrolled": false
   },
   "outputs": [
    {
     "name": "stdout",
     "output_type": "stream",
     "text": [
      "calculating GMKN AM\n",
      "calculating Rosche AM\n",
      "calculating Basket coupon\n",
      "calculating Open PIF\n",
      "calculating Solars\n",
      "Done!\n"
     ]
    }
   ],
   "source": [
    "flag = 1\n",
    "for prod in prod_list:\n",
    "    \n",
    "    print('calculating ' + prod.name)\n",
    "    \n",
    "    a1 = prod.payoff(all_BAs, returns, to_pdf = False)\n",
    "    # a1 - массив размера self.time_steps x n_scenarios\n",
    "    \n",
    "    a2 = np.ones((a1.shape[0]+1,a1.shape[1]))*(-1)\n",
    "    a2[1:,:] = a1\n",
    "    a3 = np.array([np.irr(x) for x in np.transpose(a2)])\n",
    "    \n",
    "    x = a3.std()\n",
    "    y = a3.mean()\n",
    "    z = a3.min()\n",
    "\n",
    "    if flag == 1:\n",
    "        flag = 0\n",
    "        payoffs = a1\n",
    "        irrs = a3\n",
    "        points1 = [x, y]\n",
    "        points2 = [z, y]\n",
    "        \n",
    "        names = [prod.name]\n",
    "    else:\n",
    "        payoffs = np.dstack([payoffs, a1])\n",
    "        irrs = np.c_[irrs, a3]\n",
    "        points1 = np.c_[points1, [x, y]]\n",
    "        points2 = np.c_[points2, [z, y]]\n",
    "        names.append(prod.name)\n",
    "print('Done!')"
   ]
  },
  {
   "cell_type": "code",
   "execution_count": 6,
   "metadata": {
    "collapsed": false
   },
   "outputs": [
    {
     "data": {
      "image/png": "[encoded data removed]",
      "text/plain": [
       "<matplotlib.figure.Figure at 0x11d1ac8d0>"
      ]
     },
     "metadata": {},
     "output_type": "display_data"
    }
   ],
   "source": [
    "# посмотрим продукты на плоскости риск-доходность:\n",
    "\n",
    "plt.scatter(points2[0,:], points2[1,:])\n",
    "plt.show()"
   ]
  },
  {
   "cell_type": "code",
   "execution_count": 7,
   "metadata": {
    "collapsed": true
   },
   "outputs": [],
   "source": [
    "# Определяем функции доходности (веса * среднюю дохдность) и риска (стандартное отклонение результата портфеля):\n",
    "\n",
    "def return_forecast(wghts):\n",
    "    return float(((payoffs*wghts).sum(axis = 1).mean()))\n",
    "\n",
    "\n",
    "\n",
    "def func(wghts):\n",
    "\n",
    "    return -(a3.mean())/(a3.std())"
   ]
  },
  {
   "cell_type": "code",
   "execution_count": 8,
   "metadata": {
    "collapsed": false
   },
   "outputs": [
    {
     "name": "stdout",
     "output_type": "stream",
     "text": [
      "Optimization terminated successfully.    (Exit mode 0)\n",
      "            Current function value: -0.7972364296256961\n",
      "            Iterations: 1\n",
      "            Function evaluations: 7\n",
      "            Gradient evaluations: 1\n",
      "weights:\n",
      "[0.2 0.2 0.2 0.2 0.2]\n"
     ]
    }
   ],
   "source": [
    "# задаем ограничения на веса:\n",
    "cons = ({'type': 'eq', 'fun' : lambda x: x.sum()-1},\n",
    "        {'type': 'ineq','fun' : lambda x: 1 - x.max()},\n",
    "        {'type': 'ineq','fun' : lambda x: x.min()})\n",
    "\n",
    "# начальные значения весов (всех продуктов поровну)\n",
    "x0 = np.ones(payoffs.shape[-1])/payoffs.shape[-1]\n",
    "res = minimize(func, x0, method='SLSQP', options={'disp': True}, constraints=cons)\n",
    "\n",
    "print('weights:')\n",
    "print(res.x)"
   ]
  },
  {
   "cell_type": "code",
   "execution_count": 9,
   "metadata": {
    "collapsed": false
   },
   "outputs": [
    {
     "ename": "NameError",
     "evalue": "name 'points' is not defined",
     "output_type": "error",
     "traceback": [
      "\u001b[0;31m---------------------------------------------------------------------------\u001b[0m",
      "\u001b[0;31mNameError\u001b[0m                                 Traceback (most recent call last)",
      "\u001b[0;32m<ipython-input-9-b9e8a95e82b7>\u001b[0m in \u001b[0;36m<module>\u001b[0;34m()\u001b[0m\n\u001b[0;32m----> 1\u001b[0;31m \u001b[0mplt\u001b[0m\u001b[0;34m.\u001b[0m\u001b[0mscatter\u001b[0m\u001b[0;34m(\u001b[0m\u001b[0mpoints\u001b[0m\u001b[0;34m[\u001b[0m\u001b[0;36m0\u001b[0m\u001b[0;34m,\u001b[0m\u001b[0;34m:\u001b[0m\u001b[0;34m]\u001b[0m\u001b[0;34m,\u001b[0m \u001b[0mpoints\u001b[0m\u001b[0;34m[\u001b[0m\u001b[0;36m1\u001b[0m\u001b[0;34m,\u001b[0m\u001b[0;34m:\u001b[0m\u001b[0;34m]\u001b[0m\u001b[0;34m,\u001b[0m \u001b[0mc\u001b[0m\u001b[0;34m=\u001b[0m\u001b[0;34m'blue'\u001b[0m\u001b[0;34m)\u001b[0m\u001b[0;34m\u001b[0m\u001b[0;34m\u001b[0m\u001b[0m\n\u001b[0m\u001b[1;32m      2\u001b[0m \u001b[0mplt\u001b[0m\u001b[0;34m.\u001b[0m\u001b[0mscatter\u001b[0m\u001b[0;34m(\u001b[0m\u001b[0;34m(\u001b[0m\u001b[0;34m(\u001b[0m\u001b[0mpayoffs\u001b[0m\u001b[0;34m*\u001b[0m\u001b[0mres\u001b[0m\u001b[0;34m.\u001b[0m\u001b[0mx\u001b[0m\u001b[0;34m)\u001b[0m\u001b[0;34m.\u001b[0m\u001b[0msum\u001b[0m\u001b[0;34m(\u001b[0m\u001b[0maxis\u001b[0m \u001b[0;34m=\u001b[0m \u001b[0;36m1\u001b[0m\u001b[0;34m)\u001b[0m\u001b[0;34m)\u001b[0m\u001b[0;34m.\u001b[0m\u001b[0mstd\u001b[0m\u001b[0;34m(\u001b[0m\u001b[0;34m)\u001b[0m\u001b[0;34m,\u001b[0m \u001b[0;34m(\u001b[0m\u001b[0;34m(\u001b[0m\u001b[0mpayoffs\u001b[0m\u001b[0;34m*\u001b[0m\u001b[0mres\u001b[0m\u001b[0;34m.\u001b[0m\u001b[0mx\u001b[0m\u001b[0;34m)\u001b[0m\u001b[0;34m.\u001b[0m\u001b[0msum\u001b[0m\u001b[0;34m(\u001b[0m\u001b[0maxis\u001b[0m \u001b[0;34m=\u001b[0m \u001b[0;36m1\u001b[0m\u001b[0;34m)\u001b[0m\u001b[0;34m)\u001b[0m\u001b[0;34m.\u001b[0m\u001b[0mmean\u001b[0m\u001b[0;34m(\u001b[0m\u001b[0;34m)\u001b[0m\u001b[0;34m,\u001b[0m \u001b[0mc\u001b[0m\u001b[0;34m=\u001b[0m\u001b[0;34m'red'\u001b[0m\u001b[0;34m)\u001b[0m\u001b[0;34m\u001b[0m\u001b[0;34m\u001b[0m\u001b[0m\n\u001b[1;32m      3\u001b[0m \u001b[0;34m\u001b[0m\u001b[0m\n\u001b[1;32m      4\u001b[0m \u001b[0;32mfor\u001b[0m \u001b[0mi\u001b[0m\u001b[0;34m,\u001b[0m \u001b[0mtxt\u001b[0m \u001b[0;32min\u001b[0m \u001b[0menumerate\u001b[0m\u001b[0;34m(\u001b[0m\u001b[0mnames\u001b[0m\u001b[0;34m)\u001b[0m\u001b[0;34m:\u001b[0m\u001b[0;34m\u001b[0m\u001b[0;34m\u001b[0m\u001b[0m\n\u001b[1;32m      5\u001b[0m     \u001b[0mplt\u001b[0m\u001b[0;34m.\u001b[0m\u001b[0mannotate\u001b[0m\u001b[0;34m(\u001b[0m\u001b[0mtxt\u001b[0m\u001b[0;34m,\u001b[0m \u001b[0;34m(\u001b[0m\u001b[0mpoints\u001b[0m\u001b[0;34m[\u001b[0m\u001b[0;36m0\u001b[0m\u001b[0;34m,\u001b[0m\u001b[0mi\u001b[0m\u001b[0;34m]\u001b[0m\u001b[0;34m,\u001b[0m \u001b[0mpoints\u001b[0m\u001b[0;34m[\u001b[0m\u001b[0;36m1\u001b[0m\u001b[0;34m,\u001b[0m\u001b[0mi\u001b[0m\u001b[0;34m]\u001b[0m\u001b[0;34m)\u001b[0m\u001b[0;34m)\u001b[0m\u001b[0;34m\u001b[0m\u001b[0;34m\u001b[0m\u001b[0m\n",
      "\u001b[0;31mNameError\u001b[0m: name 'points' is not defined"
     ]
    }
   ],
   "source": [
    "plt.scatter(points[0,:], points[1,:], c='blue')\n",
    "plt.scatter(((payoffs*res.x).sum(axis = 1)).std(), ((payoffs*res.x).sum(axis = 1)).mean(), c='red')\n",
    "\n",
    "for i, txt in enumerate(names):\n",
    "    plt.annotate(txt, (points[0,i], points[1,i]))\n",
    "plt.show()"
   ]
  },
  {
   "cell_type": "code",
   "execution_count": null,
   "metadata": {
    "collapsed": false
   },
   "outputs": [],
   "source": [
    "for j in range(payoffs.shape[1]):\n",
    "    print(prod_list[j].name)\n",
    "    plt.hist(payoffs[:,j], bins = 100)\n",
    "    plt.show()"
   ]
  },
  {
   "cell_type": "code",
   "execution_count": null,
   "metadata": {
    "collapsed": true
   },
   "outputs": [],
   "source": [
    "a = [1,2,3,4]"
   ]
  },
  {
   "cell_type": "code",
   "execution_count": null,
   "metadata": {
    "collapsed": false
   },
   "outputs": [],
   "source": [
    "a[a == 1] = 2.5"
   ]
  },
  {
   "cell_type": "code",
   "execution_count": null,
   "metadata": {
    "collapsed": false
   },
   "outputs": [],
   "source": [
    "a"
   ]
  },
  {
   "cell_type": "code",
   "execution_count": null,
   "metadata": {
    "collapsed": false
   },
   "outputs": [],
   "source": [
    "returns.shape"
   ]
  },
  {
   "cell_type": "code",
   "execution_count": null,
   "metadata": {
    "collapsed": false
   },
   "outputs": [],
   "source": [
    "payoffs.shape"
   ]
  },
  {
   "cell_type": "code",
   "execution_count": 10,
   "metadata": {
    "collapsed": false
   },
   "outputs": [
    {
     "data": {
      "image/png": "[encoded data removed]",
      "text/plain": [
       "<matplotlib.figure.Figure at 0x11cae8e80>"
      ]
     },
     "metadata": {},
     "output_type": "display_data"
    }
   ],
   "source": [
    "plt.hist(payoffs[:,:,-1].sum(axis = 0), bins = 100)\n",
    "plt.show()"
   ]
  },
  {
   "cell_type": "code",
   "execution_count": 12,
   "metadata": {
    "collapsed": false
   },
   "outputs": [
    {
     "data": {
      "text/plain": [
       "['SOLECMVT Index',\n",
       " 'ROG SW Equity',\n",
       " 'Open PIF',\n",
       " 'MOEX RX Equity',\n",
       " 'GMKN RX Equity',\n",
       " 'MTSS RX Equity',\n",
       " 'YNDX RX Equity',\n",
       " 'ALRS RX Equity']"
      ]
     },
     "execution_count": 12,
     "metadata": {},
     "output_type": "execute_result"
    }
   ],
   "source": [
    "all_BAs"
   ]
  },
  {
   "cell_type": "code",
   "execution_count": 15,
   "metadata": {
    "collapsed": false
   },
   "outputs": [],
   "source": [
    "r1 = returns[:,:,0]"
   ]
  },
  {
   "cell_type": "markdown",
   "metadata": {},
   "source": [
    "# "
   ]
  }
 ],
 "metadata": {
  "kernelspec": {
   "display_name": "Python 3",
   "language": "python",
   "name": "python3"
  },
  "language_info": {
   "codemirror_mode": {
    "name": "ipython",
    "version": 3
   },
   "file_extension": ".py",
   "mimetype": "text/x-python",
   "name": "python",
   "nbconvert_exporter": "python",
   "pygments_lexer": "ipython3",
   "version": "3.6.7"
  }
 },
 "nbformat": 4,
 "nbformat_minor": 2
}
