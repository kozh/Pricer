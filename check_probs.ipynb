{
 "cells": [
  {
   "cell_type": "code",
   "execution_count": 1,
   "metadata": {
    "collapsed": true
   },
   "outputs": [],
   "source": [
    "import numpy as np\n",
    "import pandas as pd \n",
    "from pfp_stat import *"
   ]
  },
  {
   "cell_type": "code",
   "execution_count": 2,
   "metadata": {
    "collapsed": true
   },
   "outputs": [],
   "source": [
    "BAs = ['T US Equity', 'TWTR US Equity', 'ADS GY equity', 'VOW3 EU Equity', 'BP US Equity']"
   ]
  },
  {
   "cell_type": "code",
   "execution_count": 6,
   "metadata": {
    "collapsed": false
   },
   "outputs": [
    {
     "name": "stdout",
     "output_type": "stream",
     "text": [
      "Returns: \n",
      "t us equity       0.020\n",
      "twtr us equity    0.020\n",
      "ads gy equity     0.018\n",
      "vow3 eu equity    0.020\n",
      "bp us equity      0.020\n",
      "Name: r, dtype: float64\n",
      " \n",
      "Sigmas: \n",
      "t us equity       0.159490\n",
      "twtr us equity    0.469549\n",
      "ads gy equity     0.220975\n",
      "vow3 eu equity    0.231324\n",
      "bp us equity      0.183812\n",
      "dtype: float32\n",
      " \n",
      "Correlations: \n",
      "\n",
      "                t us equity  twtr us equity  ads gy equity  vow3 eu equity  \\\n",
      "t us equity        1.000000       -0.159682       0.162187       -0.118450   \n",
      "twtr us equity    -0.159682        1.000000      -0.173952        0.034085   \n",
      "ads gy equity      0.162187       -0.173952       1.000000       -0.029073   \n",
      "vow3 eu equity    -0.118450        0.034085      -0.029073        1.000000   \n",
      "bp us equity      -0.152093       -0.176023      -0.098807        0.416917   \n",
      "\n",
      "                bp us equity  \n",
      "t us equity        -0.152093  \n",
      "twtr us equity     -0.176023  \n",
      "ads gy equity      -0.098807  \n",
      "vow3 eu equity      0.416917  \n",
      "bp us equity        1.000000  \n",
      "Scenarios ready!\n"
     ]
    }
   ],
   "source": [
    "n_scenarios = 50000\n",
    "simulation_years = 5   \n",
    "\n",
    "returns = ba_scenarios(BAs, \n",
    "                       simulation_years,  \n",
    "                       n_scenarios, \n",
    "                       print_statistics = True,\n",
    "                       points_in_year = 12)\n",
    "print('Scenarios ready!')"
   ]
  },
  {
   "cell_type": "code",
   "execution_count": null,
   "metadata": {
    "collapsed": true
   },
   "outputs": [],
   "source": []
  }
 ],
 "metadata": {
  "kernelspec": {
   "display_name": "Python 3",
   "language": "python",
   "name": "python3"
  },
  "language_info": {
   "codemirror_mode": {
    "name": "ipython",
    "version": 3
   },
   "file_extension": ".py",
   "mimetype": "text/x-python",
   "name": "python",
   "nbconvert_exporter": "python",
   "pygments_lexer": "ipython3",
   "version": "3.6.7"
  }
 },
 "nbformat": 4,
 "nbformat_minor": 2
}
